{
 "cells": [
  {
   "cell_type": "code",
   "execution_count": 5,
   "metadata": {},
   "outputs": [
    {
     "name": "stdout",
     "output_type": "stream",
     "text": [
      "Requirement already satisfied: flask in /home/oem/anaconda3/lib/python3.7/site-packages (1.1.1)\n",
      "Requirement already satisfied: click>=5.1 in /home/oem/anaconda3/lib/python3.7/site-packages (from flask) (7.0)\n",
      "Requirement already satisfied: Werkzeug>=0.15 in /home/oem/anaconda3/lib/python3.7/site-packages (from flask) (1.0.0)\n",
      "Requirement already satisfied: itsdangerous>=0.24 in /home/oem/anaconda3/lib/python3.7/site-packages (from flask) (1.1.0)\n",
      "Requirement already satisfied: Jinja2>=2.10.1 in /home/oem/anaconda3/lib/python3.7/site-packages (from flask) (2.11.1)\n",
      "Requirement already satisfied: MarkupSafe>=0.23 in /home/oem/anaconda3/lib/python3.7/site-packages (from Jinja2>=2.10.1->flask) (1.1.1)\n",
      "Requirement already satisfied: numpy in /home/oem/anaconda3/lib/python3.7/site-packages (1.18.1)\n",
      "Requirement already satisfied: opencv-contrib-python in /home/oem/anaconda3/lib/python3.7/site-packages (4.2.0.34)\n",
      "Requirement already satisfied: numpy>=1.14.5 in /home/oem/anaconda3/lib/python3.7/site-packages (from opencv-contrib-python) (1.18.1)\n",
      "Collecting imutils\n",
      "  Downloading imutils-0.5.3.tar.gz (17 kB)\n",
      "Building wheels for collected packages: imutils\n",
      "  Building wheel for imutils (setup.py) ... \u001b[?25ldone\n",
      "\u001b[?25h  Created wheel for imutils: filename=imutils-0.5.3-py3-none-any.whl size=25850 sha256=b131feba8a24eb3380e0d8ef57b9c238205ea13579ecdd4dc6aaa479ddf5da95\n",
      "  Stored in directory: /home/oem/.cache/pip/wheels/fc/9c/6d/1826267c72afa51b564c9c6e0f66abc806879338bc593a2270\n",
      "Successfully built imutils\n",
      "Installing collected packages: imutils\n",
      "Successfully installed imutils-0.5.3\n"
     ]
    }
   ],
   "source": [
    "!pip install flask\n",
    "!pip install numpy\n",
    "!pip install opencv-contrib-python\n",
    "!pip install imutils\n",
    "!pip install python-ffmpeg-video-streaming"
   ]
  },
  {
   "cell_type": "code",
   "execution_count": 6,
   "metadata": {},
   "outputs": [],
   "source": [
    "import numpy as np\n",
    "import imutils\n",
    "import cv2\n",
    "\n",
    "class SingleMotionDetector:\n",
    "    def __init__(self, accumWeight=0.5):\n",
    "        self.accumWeight = accumWeight\n",
    "        self.bg = None\n",
    "        \n",
    "    def update(self, img):\n",
    "        if self.bg is None:\n",
    "            self.bg = img.copy().astype(\"float\")\n",
    "            return\n",
    "        \n",
    "        cv2.accumulateWeighted(img, self.bg, self.accumWeight)\n",
    "        \n",
    "    def detect(self, img, tVal = 25):\n",
    "        delta = cv2.absdiff(self.bg.astype(\"uint8\"), img)\n",
    "        thresh = cv2.threshold(delta, tVal, 255, cv2.THRESH_BINARY)[1]\n",
    "        \n",
    "        thresh = cv2.erode(thresh, None, iterations=2)\n",
    "        thresh = cv2.dilate(thresh, None, iterations=2)\n",
    "        \n",
    "        cnts = cv2.findContours(thresh.copy(), cv2.RETR_EXTERNAL, cv2.CHAIN_APPROX_SIMPLE)\n",
    "        cnts = imutils.grab_contours(cnt)\n",
    "        (minX, minY) = (np.inf, np.inf)\n",
    "        (maxX, maxY) = (-np.inf, -np.inf)\n",
    "        \n",
    "        if len(cnts) == 0:\n",
    "            return None\n",
    "        \n",
    "        for c in cnts:\n",
    "            (x, y, w, h) = cv2.boundingRect(c)\n",
    "            (minX, minY) = (min(minX, x), min(minY, y))\n",
    "            (maxX, maxY) = (max(maxX, x + w), max(maxY, y + h))\n",
    "            \n",
    "        return (thresh, (minX, minY, maxX, maxY))"
   ]
  },
  {
   "cell_type": "code",
   "execution_count": 7,
   "metadata": {},
   "outputs": [],
   "source": [
    "from imutils.video import VideoStream\n",
    "from flask import Response\n",
    "from flask import Flask\n",
    "from flask import render_template\n",
    "\n",
    "import threading\n",
    "import argparse\n",
    "import datetime\n",
    "import imutils\n",
    "import time\n",
    "import cv2"
   ]
  },
  {
   "cell_type": "code",
   "execution_count": 11,
   "metadata": {},
   "outputs": [],
   "source": [
    "outputFrame = None\n",
    "lock = threading.Lock()\n",
    "\n",
    "app = Flask(__name__)\n",
    "\n",
    "vs = VideoStream(src = 0).start()\n",
    "time.sleep(2.0)\n",
    "\n",
    "@app.route(\"/\")\n",
    "def index():\n",
    "    return render_template(\"index.html\")\n",
    "\n",
    "def detect_motion(frameCount):\n",
    "    global vs, outputFrame, lock\n",
    "    md = SingleMotionDetector(accumWeight = 0.1)\n",
    "    total = 0\n",
    "    \n",
    "    while True:\n",
    "        frame = vs.read()\n",
    "        frame = imutils.resize(frame, width = 400)\n",
    "        gray = cv2.cvtColor(frame, cv2.COLOR_BGR2GRAY)\n",
    "        gray = cv2.GaussianBlur(gray, (7, 7), 0)\n",
    "        \n",
    "        timestampe = datetime.datetime.now()\n",
    "        cv2.putText(frame, timestamp.strftime(\"%A %d %B %Y %I: %M: %S%p\"),\n",
    "                   (10, frame.shape[0] - 10), cv2.FONT_HERSHEY_SIMPLEX, 0.35, (0, 0, 255), 1)\n",
    "        \n",
    "        if total > frameCount:\n",
    "            motion = md.detect(gray)\n",
    "            \n",
    "            if motion is not None:\n",
    "                (thresh, (minX, minY, maxX, maxY)) = motion\n",
    "                cv2.rectangle(frame, (minX, minY), (maxX, maxY), (0, 0, 255), 2)\n",
    "                \n",
    "        md.update(gray)\n",
    "        total += 1\n",
    "        \n",
    "        with lock:\n",
    "            outputFrame = frame.copy()\n",
    "            \n",
    "def generate():\n",
    "    global outputFrame, lock\n",
    "    \n",
    "    while True:\n",
    "        with lock:\n",
    "            if outputFrame is None:\n",
    "                continue\n",
    "                \n",
    "            (flag, encodedImage) = cv2.imencode(\".jpg\", outputFrame)\n",
    "            \n",
    "            if not flag:\n",
    "                continue\n",
    "                \n",
    "        yield(b'--frame\\r\\n' b'Content-Type: image/jpeg\\r\\n\\r\\n' + bytearray(encodedImage) + b'\\r\\n')\n",
    "        \n",
    "@app.route('/video_feed')\n",
    "def video_feed():\n",
    "    return Response(generate(), mimetype = \"multipart/x-mixed-replace; boundary=frame\")"
   ]
  },
  {
   "cell_type": "code",
   "execution_count": null,
   "metadata": {},
   "outputs": [
    {
     "name": "stdout",
     "output_type": "stream",
     "text": [
      " * Serving Flask app \"__main__\" (lazy loading)\n",
      " * Environment: production\n",
      "   WARNING: This is a development server. Do not use it in a production deployment.\n",
      "   Use a production WSGI server instead.\n",
      " * Debug mode: on\n"
     ]
    },
    {
     "name": "stderr",
     "output_type": "stream",
     "text": [
      "Exception in thread Thread-6:\n",
      "Traceback (most recent call last):\n",
      "  File \"/home/oem/anaconda3/lib/python3.7/threading.py\", line 926, in _bootstrap_inner\n",
      "    self.run()\n",
      "  File \"/home/oem/anaconda3/lib/python3.7/threading.py\", line 870, in run\n",
      "    self._target(*self._args, **self._kwargs)\n",
      "  File \"<ipython-input-11-82c26b24eef0>\", line 20, in detect_motion\n",
      "    frame = imutils.resize(frame, width = 400)\n",
      "  File \"/home/oem/anaconda3/lib/python3.7/site-packages/imutils/convenience.py\", line 69, in resize\n",
      "    (h, w) = image.shape[:2]\n",
      "AttributeError: 'NoneType' object has no attribute 'shape'\n",
      "\n",
      "INFO:werkzeug: * Running on http://0.0.0.0:33333/ (Press CTRL+C to quit)\n"
     ]
    }
   ],
   "source": [
    "if __name__ == '__main__':\n",
    "    #ap = argparse.ArgumentParser()\n",
    "    #ap.add_argument(\"-i\", \"--ip\", type=str, required=True, help=\"ip address of the device\")\n",
    "    #ap.add_argument(\"-o\", \"--port\", type=int, required=True,\n",
    "    #                help=\"ephemeral port number of the server (1024 to 65535)\")\n",
    "    #ap.add_argument(\"-f\", \"--frame-count\", type=int, default=32,\n",
    "    #                help=\"# of frames used to construct the background model\")\n",
    "    #args = vars(ap.parse_args())\n",
    "\n",
    "    t = threading.Thread(target=detect_motion, args=(32,))\n",
    "    t.daemon = True\n",
    "    t.start()\n",
    "\n",
    "    #app.run(host=args[\"ip\"], port=args[\"port\"], debug=True, threaded=True, use_reloader=False)\n",
    "    app.run(host=\"0.0.0.0\", port=33333, debug=True, threaded=True, use_reloader=False)\n",
    "\n",
    "vs.stop()"
   ]
  },
  {
   "cell_type": "code",
   "execution_count": null,
   "metadata": {},
   "outputs": [],
   "source": []
  },
  {
   "cell_type": "code",
   "execution_count": null,
   "metadata": {},
   "outputs": [],
   "source": []
  },
  {
   "cell_type": "code",
   "execution_count": null,
   "metadata": {},
   "outputs": [],
   "source": []
  },
  {
   "cell_type": "code",
   "execution_count": null,
   "metadata": {},
   "outputs": [],
   "source": [
    "import ffmpeg_streaming"
   ]
  },
  {
   "cell_type": "code",
   "execution_count": 4,
   "metadata": {},
   "outputs": [],
   "source": [
    "#video = ffmpeg_streaming.input('/var/media/video.mp4')\n",
    "video = ffmpeg_streaming.input('https://www.')"
   ]
  },
  {
   "cell_type": "code",
   "execution_count": null,
   "metadata": {},
   "outputs": [],
   "source": []
  }
 ],
 "metadata": {
  "kernelspec": {
   "display_name": "Python 3",
   "language": "python",
   "name": "python3"
  },
  "language_info": {
   "codemirror_mode": {
    "name": "ipython",
    "version": 3
   },
   "file_extension": ".py",
   "mimetype": "text/x-python",
   "name": "python",
   "nbconvert_exporter": "python",
   "pygments_lexer": "ipython3",
   "version": "3.7.6"
  }
 },
 "nbformat": 4,
 "nbformat_minor": 4
}
