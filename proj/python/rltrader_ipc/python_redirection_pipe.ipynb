{
 "cells": [
  {
   "cell_type": "code",
   "execution_count": 7,
   "metadata": {},
   "outputs": [],
   "source": [
    "import subprocess"
   ]
  },
  {
   "cell_type": "code",
   "execution_count": 8,
   "metadata": {},
   "outputs": [],
   "source": [
    "import binascii\n",
    "\n",
    "def to_hex(t, nbytes):\n",
    "    \"Format text t as a sequence of nbyte long values separated by spaces.\"\n",
    "    chars_per_item = nbytes * 2\n",
    "    hex_version = binascii.hexlify(t)\n",
    "    num_chunks = len(hex_version) / chars_per_item\n",
    "    def chunkify():\n",
    "        for start in xrange(0, len(hex_version), chars_per_item):\n",
    "            yield hex_version[start:start + chars_per_item]\n",
    "    return ' '.join(chunkify())"
   ]
  },
  {
   "cell_type": "code",
   "execution_count": 11,
   "metadata": {},
   "outputs": [
    {
     "name": "stdout",
     "output_type": "stream",
     "text": [
      "61 62 63 64 65 66\n",
      "6162 6364 6566\n"
     ]
    }
   ],
   "source": [
    "print to_hex('abcdef', 1)\n",
    "print to_hex('abcdef', 2)"
   ]
  },
  {
   "cell_type": "code",
   "execution_count": 10,
   "metadata": {},
   "outputs": [
    {
     "name": "stdout",
     "output_type": "stream",
     "text": [
      "Raw   : u'pi: \\u03c0'\n",
      "UTF-8 : 70 69 3a 20 cf 80\n",
      "UTF-16: fffe 7000 6900 3a00 2000 c003\n"
     ]
    }
   ],
   "source": [
    "text = u'pi: π'\n",
    "\n",
    "print 'Raw   :', repr(text)\n",
    "print 'UTF-8 :', to_hex(text.encode('utf-8'), 1)\n",
    "print 'UTF-16:', to_hex(text.encode('utf-16'), 2)"
   ]
  },
  {
   "cell_type": "code",
   "execution_count": 12,
   "metadata": {},
   "outputs": [],
   "source": [
    "import codecs\n",
    "import sys"
   ]
  },
  {
   "cell_type": "code",
   "execution_count": null,
   "metadata": {},
   "outputs": [],
   "source": []
  },
  {
   "cell_type": "code",
   "execution_count": 24,
   "metadata": {},
   "outputs": [
    {
     "name": "stdout",
     "output_type": "stream",
     "text": [
      "Python 2.7.12\r\n"
     ]
    }
   ],
   "source": [
    "!python --version"
   ]
  },
  {
   "cell_type": "code",
   "execution_count": 25,
   "metadata": {},
   "outputs": [
    {
     "data": {
      "text/plain": [
       "0"
      ]
     },
     "execution_count": 25,
     "metadata": {},
     "output_type": "execute_result"
    }
   ],
   "source": [
    "import subprocess\n",
    "\n",
    "subprocess.call([\"ls\", \"-l\"])"
   ]
  },
  {
   "cell_type": "code",
   "execution_count": 29,
   "metadata": {},
   "outputs": [
    {
     "data": {
      "text/plain": [
       "1"
      ]
     },
     "execution_count": 29,
     "metadata": {},
     "output_type": "execute_result"
    }
   ],
   "source": [
    "import subprocess\n",
    "\n",
    "subprocess.call(\"exit 1\", shell=True)"
   ]
  },
  {
   "cell_type": "code",
   "execution_count": 31,
   "metadata": {},
   "outputs": [
    {
     "data": {
      "text/plain": [
       "0"
      ]
     },
     "execution_count": 31,
     "metadata": {},
     "output_type": "execute_result"
    }
   ],
   "source": [
    "import subprocess\n",
    "\n",
    "subprocess.check_call([\"ls\", \"-l\"])"
   ]
  },
  {
   "cell_type": "code",
   "execution_count": 32,
   "metadata": {},
   "outputs": [
    {
     "data": {
      "text/plain": [
       "0"
      ]
     },
     "execution_count": 32,
     "metadata": {},
     "output_type": "execute_result"
    }
   ],
   "source": [
    "import subprocess\n",
    "\n",
    "subprocess.check_call([\"ls\", \"-l\"], shell=True)"
   ]
  },
  {
   "cell_type": "code",
   "execution_count": 33,
   "metadata": {},
   "outputs": [
    {
     "data": {
      "text/plain": [
       "'Hello World!\\n'"
      ]
     },
     "execution_count": 33,
     "metadata": {},
     "output_type": "execute_result"
    }
   ],
   "source": [
    "import subprocess\n",
    "\n",
    "subprocess.check_output([\"echo\", \"Hello World!\"])"
   ]
  },
  {
   "cell_type": "code",
   "execution_count": 34,
   "metadata": {},
   "outputs": [
    {
     "data": {
      "text/plain": [
       "\"ls: cannot access 'non_existent_file': No such file or directory\\n\""
      ]
     },
     "execution_count": 34,
     "metadata": {},
     "output_type": "execute_result"
    }
   ],
   "source": [
    "import subprocess\n",
    "\n",
    "subprocess.check_output(\n",
    "    \"ls non_existent_file; exit 0\",\n",
    "    stderr=subprocess.STDOUT,\n",
    "    shell=True\n",
    ")"
   ]
  },
  {
   "cell_type": "code",
   "execution_count": 40,
   "metadata": {},
   "outputs": [
    {
     "name": "stdout",
     "output_type": "stream",
     "text": [
      "[    9.082138] snd_hda_intel 0000:00:1b.0: enabling device (0000 -> 0002)\n",
      "[    9.082327] snd_hda_intel 0000:01:00.1: enabling device (0000 -> 0002)\n",
      "[    9.082358] snd_hda_intel 0000:01:00.1: Disabling MSI\n",
      "[    9.082362] snd_hda_intel 0000:01:00.1: Handle vga_switcheroo audio client\n",
      "[    9.117096] snd_hda_codec_realtek hdaudioC0D0: autoconfig for ALC662 rev3: line_outs=1 (0x14/0x0/0x0/0x0/0x0) type:line\n",
      "[    9.117098] snd_hda_codec_realtek hdaudioC0D0:    speaker_outs=0 (0x0/0x0/0x0/0x0/0x0)\n",
      "[    9.117098] snd_hda_codec_realtek hdaudioC0D0:    hp_outs=1 (0x1b/0x0/0x0/0x0/0x0)\n",
      "[    9.117099] snd_hda_codec_realtek hdaudioC0D0:    mono: mono_out=0x0\n",
      "[    9.117099] snd_hda_codec_realtek hdaudioC0D0:    inputs:\n",
      "[    9.117100] snd_hda_codec_realtek hdaudioC0D0:      Front Mic=0x19\n",
      "[    9.117101] snd_hda_codec_realtek hdaudioC0D0:      Rear Mic=0x18\n",
      "[    9.117102] snd_hda_codec_realtek hdaudioC0D0:      Line=0x1a\n",
      "\n"
     ]
    }
   ],
   "source": [
    "import subprocess\n",
    "\n",
    "p1 = subprocess.Popen([\"dmesg\"], stdout=subprocess.PIPE)\n",
    "p2 = subprocess.Popen([\"grep\", \"hda\"], stdin=p1.stdout, stdout=subprocess.PIPE)\n",
    "p1.stdout.close()  # Allow p1 to receive a SIGPIPE if p2 exits.\n",
    "output = p2.communicate()[0]\n",
    "\n",
    "print(output)"
   ]
  },
  {
   "cell_type": "code",
   "execution_count": 42,
   "metadata": {},
   "outputs": [
    {
     "name": "stdout",
     "output_type": "stream",
     "text": [
      "[    9.082138] snd_hda_intel 0000:00:1b.0: enabling device (0000 -> 0002)\n",
      "[    9.082327] snd_hda_intel 0000:01:00.1: enabling device (0000 -> 0002)\n",
      "[    9.082358] snd_hda_intel 0000:01:00.1: Disabling MSI\n",
      "[    9.082362] snd_hda_intel 0000:01:00.1: Handle vga_switcheroo audio client\n",
      "[    9.117096] snd_hda_codec_realtek hdaudioC0D0: autoconfig for ALC662 rev3: line_outs=1 (0x14/0x0/0x0/0x0/0x0) type:line\n",
      "[    9.117098] snd_hda_codec_realtek hdaudioC0D0:    speaker_outs=0 (0x0/0x0/0x0/0x0/0x0)\n",
      "[    9.117098] snd_hda_codec_realtek hdaudioC0D0:    hp_outs=1 (0x1b/0x0/0x0/0x0/0x0)\n",
      "[    9.117099] snd_hda_codec_realtek hdaudioC0D0:    mono: mono_out=0x0\n",
      "[    9.117099] snd_hda_codec_realtek hdaudioC0D0:    inputs:\n",
      "[    9.117100] snd_hda_codec_realtek hdaudioC0D0:      Front Mic=0x19\n",
      "[    9.117101] snd_hda_codec_realtek hdaudioC0D0:      Rear Mic=0x18\n",
      "[    9.117102] snd_hda_codec_realtek hdaudioC0D0:      Line=0x1a\n",
      "\n"
     ]
    }
   ],
   "source": [
    "from subprocess import Popen\n",
    "\n",
    "p1 = subprocess.Popen([\"dmesg\"], stdout=subprocess.PIPE)\n",
    "p2 = subprocess.Popen([\"grep\", \"hda\"], stdin=p1.stdout, stdout=subprocess.PIPE)\n",
    "p1.stdout.close()  # Allow p1 to receive a SIGPIPE if p2 exits.\n",
    "output = p2.communicate()[0]\n",
    "\n",
    "print(output)"
   ]
  },
  {
   "cell_type": "code",
   "execution_count": 50,
   "metadata": {},
   "outputs": [
    {
     "name": "stdout",
     "output_type": "stream",
     "text": [
      "<subprocess.Popen object at 0x7fdbe4275150>\n"
     ]
    },
    {
     "data": {
      "text/plain": [
       "('Untitled.ipynb\\npython_output.txt\\ntmp_output.txt\\n', None)"
      ]
     },
     "execution_count": 50,
     "metadata": {},
     "output_type": "execute_result"
    }
   ],
   "source": [
    "from subprocess import Popen\n",
    "from subprocess import PIPE\n",
    "\n",
    "p = Popen([\"ls\"], stdin=PIPE, stdout=PIPE, env={\"ENV_\":\"value\"})\n",
    "\n",
    "print(p)\n",
    "\n",
    "p.stdin.write(\"test\")\n",
    "p.communicate(\"stdin input string\")"
   ]
  },
  {
   "cell_type": "code",
   "execution_count": 52,
   "metadata": {},
   "outputs": [
    {
     "data": {
      "text/plain": [
       "'1234'"
      ]
     },
     "execution_count": 52,
     "metadata": {},
     "output_type": "execute_result"
    }
   ],
   "source": [
    "import os\n",
    "\n",
    "r, w = os.pipe()\n",
    "p = Popen(\"cat\", stdin=PIPE, stdout=w)\n",
    "p.stdin.write(\"1234\")\n",
    "os.read(r, 4)"
   ]
  },
  {
   "cell_type": "code",
   "execution_count": 56,
   "metadata": {},
   "outputs": [],
   "source": [
    "stdin_r, stdin_w = os.pipe()\n",
    "stdout_r, stdout_w = os.pipe()\n",
    "\n",
    "p = Popen(\"cat\", stdin=stdin_r, stdout=stdout_w)"
   ]
  },
  {
   "cell_type": "code",
   "execution_count": 57,
   "metadata": {},
   "outputs": [
    {
     "data": {
      "text/plain": [
       "4"
      ]
     },
     "execution_count": 57,
     "metadata": {},
     "output_type": "execute_result"
    }
   ],
   "source": [
    "os.write(stdin_w, \"1234\")"
   ]
  },
  {
   "cell_type": "code",
   "execution_count": 58,
   "metadata": {},
   "outputs": [
    {
     "data": {
      "text/plain": [
       "'1234'"
      ]
     },
     "execution_count": 58,
     "metadata": {},
     "output_type": "execute_result"
    }
   ],
   "source": [
    "os.read(stdout_r, 4)"
   ]
  },
  {
   "cell_type": "code",
   "execution_count": null,
   "metadata": {},
   "outputs": [],
   "source": []
  },
  {
   "cell_type": "code",
   "execution_count": null,
   "metadata": {},
   "outputs": [],
   "source": []
  },
  {
   "cell_type": "code",
   "execution_count": null,
   "metadata": {},
   "outputs": [],
   "source": [
    "# 이게 어렵다고 몇달째 아무것도 안해준건가요 ???"
   ]
  },
  {
   "cell_type": "code",
   "execution_count": 59,
   "metadata": {},
   "outputs": [],
   "source": [
    "import subprocess\n",
    "import os\n",
    "\n",
    "from subprocess import Popen\n",
    "from subprocess import PIPE\n",
    "\n",
    "fd = open('output.txt', 'w')\n",
    "\n",
    "p1 = Popen([\"dmesg\"], stdout=subprocess.PIPE)\n",
    "p2 = Popen([\"grep\", \"hda\"], stdin=p1.stdout, stdout=fd)\n",
    "\n",
    "p1.stdout.close()\n",
    "output = p2.communicate()[0]\n",
    "\n",
    "fd.close()"
   ]
  },
  {
   "cell_type": "code",
   "execution_count": 60,
   "metadata": {},
   "outputs": [
    {
     "name": "stdout",
     "output_type": "stream",
     "text": [
      "[    9.082138] snd_hda_intel 0000:00:1b.0: enabling device (0000 -> 0002)\r\n",
      "[    9.082327] snd_hda_intel 0000:01:00.1: enabling device (0000 -> 0002)\r\n",
      "[    9.082358] snd_hda_intel 0000:01:00.1: Disabling MSI\r\n",
      "[    9.082362] snd_hda_intel 0000:01:00.1: Handle vga_switcheroo audio client\r\n",
      "[    9.117096] snd_hda_codec_realtek hdaudioC0D0: autoconfig for ALC662 rev3: line_outs=1 (0x14/0x0/0x0/0x0/0x0) type:line\r\n",
      "[    9.117098] snd_hda_codec_realtek hdaudioC0D0:    speaker_outs=0 (0x0/0x0/0x0/0x0/0x0)\r\n",
      "[    9.117098] snd_hda_codec_realtek hdaudioC0D0:    hp_outs=1 (0x1b/0x0/0x0/0x0/0x0)\r\n",
      "[    9.117099] snd_hda_codec_realtek hdaudioC0D0:    mono: mono_out=0x0\r\n",
      "[    9.117099] snd_hda_codec_realtek hdaudioC0D0:    inputs:\r\n",
      "[    9.117100] snd_hda_codec_realtek hdaudioC0D0:      Front Mic=0x19\r\n",
      "[    9.117101] snd_hda_codec_realtek hdaudioC0D0:      Rear Mic=0x18\r\n",
      "[    9.117102] snd_hda_codec_realtek hdaudioC0D0:      Line=0x1a\r\n"
     ]
    }
   ],
   "source": [
    "!cat output.txt"
   ]
  },
  {
   "cell_type": "code",
   "execution_count": null,
   "metadata": {},
   "outputs": [],
   "source": []
  },
  {
   "cell_type": "code",
   "execution_count": null,
   "metadata": {},
   "outputs": [],
   "source": []
  },
  {
   "cell_type": "code",
   "execution_count": null,
   "metadata": {},
   "outputs": [],
   "source": []
  },
  {
   "cell_type": "code",
   "execution_count": null,
   "metadata": {},
   "outputs": [],
   "source": []
  },
  {
   "cell_type": "code",
   "execution_count": 19,
   "metadata": {},
   "outputs": [
    {
     "ename": "TypeError",
     "evalue": "expected a string or other character buffer object",
     "output_type": "error",
     "traceback": [
      "\u001b[0;31m---------------------------------------------------------------------------\u001b[0m",
      "\u001b[0;31mTypeError\u001b[0m                                 Traceback (most recent call last)",
      "\u001b[0;32m<ipython-input-19-bd1d85ae926b>\u001b[0m in \u001b[0;36m<module>\u001b[0;34m()\u001b[0m\n\u001b[1;32m     15\u001b[0m \u001b[0;31m#)\u001b[0m\u001b[0;34m\u001b[0m\u001b[0;34m\u001b[0m\u001b[0m\n\u001b[1;32m     16\u001b[0m \u001b[0;34m\u001b[0m\u001b[0m\n\u001b[0;32m---> 17\u001b[0;31m \u001b[0mfd\u001b[0m\u001b[0;34m.\u001b[0m\u001b[0mwrite\u001b[0m\u001b[0;34m(\u001b[0m\u001b[0moutput\u001b[0m\u001b[0;34m)\u001b[0m\u001b[0;34m\u001b[0m\u001b[0m\n\u001b[0m\u001b[1;32m     18\u001b[0m \u001b[0mfd\u001b[0m\u001b[0;34m.\u001b[0m\u001b[0mclose\u001b[0m\u001b[0;34m(\u001b[0m\u001b[0;34m)\u001b[0m\u001b[0;34m\u001b[0m\u001b[0m\n",
      "\u001b[0;31mTypeError\u001b[0m: expected a string or other character buffer object"
     ]
    }
   ],
   "source": [
    "fd = open('tmp_output.txt', 'w')\n",
    "\n",
    "# python v2\n",
    "output = subprocess.call(\n",
    "    ['ls', '~/project/bitai/'], \n",
    "    stdout=subprocess.PIPE, \n",
    "    shell=True\n",
    ")\n",
    "# python v3\n",
    "#var = subprocess.run(\n",
    "#    ['ls', '~/project/bitai/'],\n",
    "#    stdout=subprocess.PIPE,\n",
    "#    shell=True,\n",
    "#    encoding='utf-8'\n",
    "#)\n",
    "\n",
    "fd.write(output)\n",
    "fd.close()"
   ]
  },
  {
   "cell_type": "code",
   "execution_count": 15,
   "metadata": {},
   "outputs": [
    {
     "ename": "AttributeError",
     "evalue": "'int' object has no attribute 'decode'",
     "output_type": "error",
     "traceback": [
      "\u001b[0;31m---------------------------------------------------------------------------\u001b[0m",
      "\u001b[0;31mAttributeError\u001b[0m                            Traceback (most recent call last)",
      "\u001b[0;32m<ipython-input-15-05d3dce9d3a4>\u001b[0m in \u001b[0;36m<module>\u001b[0;34m()\u001b[0m\n\u001b[0;32m----> 1\u001b[0;31m \u001b[0moutput\u001b[0m \u001b[0;34m=\u001b[0m \u001b[0moutput\u001b[0m\u001b[0;34m.\u001b[0m\u001b[0mdecode\u001b[0m\u001b[0;34m(\u001b[0m\u001b[0;34m'utf-8'\u001b[0m\u001b[0;34m)\u001b[0m\u001b[0;34m\u001b[0m\u001b[0m\n\u001b[0m\u001b[1;32m      2\u001b[0m \u001b[0;32mprint\u001b[0m\u001b[0;34m(\u001b[0m\u001b[0moutput\u001b[0m\u001b[0;34m)\u001b[0m\u001b[0;34m\u001b[0m\u001b[0m\n",
      "\u001b[0;31mAttributeError\u001b[0m: 'int' object has no attribute 'decode'"
     ]
    }
   ],
   "source": [
    "output = output.decode('utf-8')\n",
    "print(output)"
   ]
  },
  {
   "cell_type": "code",
   "execution_count": 3,
   "metadata": {},
   "outputs": [
    {
     "name": "stdout",
     "output_type": "stream",
     "text": [
      "python_output.txt  Untitled.ipynb\r\n"
     ]
    }
   ],
   "source": [
    "!ls"
   ]
  },
  {
   "cell_type": "code",
   "execution_count": 4,
   "metadata": {},
   "outputs": [],
   "source": [
    "!cat python_output.txt"
   ]
  },
  {
   "cell_type": "code",
   "execution_count": null,
   "metadata": {},
   "outputs": [],
   "source": []
  }
 ],
 "metadata": {
  "kernelspec": {
   "display_name": "Python 2",
   "language": "python",
   "name": "python2"
  },
  "language_info": {
   "codemirror_mode": {
    "name": "ipython",
    "version": 2
   },
   "file_extension": ".py",
   "mimetype": "text/x-python",
   "name": "python",
   "nbconvert_exporter": "python",
   "pygments_lexer": "ipython2",
   "version": "2.7.12"
  }
 },
 "nbformat": 4,
 "nbformat_minor": 2
}
